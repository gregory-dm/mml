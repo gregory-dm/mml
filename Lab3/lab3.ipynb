{
  "nbformat": 4,
  "nbformat_minor": 0,
  "metadata": {
    "authors": [
      {
        "name": "Бурашников Владимир Владимирович"
      }
    ],
    "celltoolbar": "Raw Cell Format",
    "group": "ИУ5-22М",
    "kernelspec": {
      "display_name": "Python 3",
      "language": "python",
      "name": "python3"
    },
    "lab_number": 3,
    "language_info": {
      "codemirror_mode": {
        "name": "ipython",
        "version": 3
      },
      "file_extension": ".py",
      "mimetype": "text/x-python",
      "name": "python",
      "nbconvert_exporter": "python",
      "pygments_lexer": "ipython3",
      "version": "3.6.10"
    },
    "title": "Обработка пропусков в данных, кодирование категориальных признаков, масштабирование данных",
    "colab": {
      "name": "missing.ipynb",
      "provenance": [],
      "collapsed_sections": []
    }
  },
  "cells": [
    {
      "cell_type": "markdown",
      "metadata": {
        "id": "3-Qt8neBTG1-",
        "colab_type": "text"
      },
      "source": [
        "# Цель лабораторной работы\n",
        "Изучить способы предварительной обработки данных для&nbsp;дальнейшего формирования моделей<cite data-cite=\"ue:lab3\"></cite>."
      ]
    },
    {
      "cell_type": "markdown",
      "metadata": {
        "id": "87QZsI7xTG2H",
        "colab_type": "text"
      },
      "source": [
        "# Задание\n",
        "Требуется<cite data-cite=\"ue:lab3\"></cite>:\n",
        "\n",
        "1. Выбрать набор данных (датасет), содержащий категориальные признаки и пропуски в&nbsp;данных. Для&nbsp;выполнения следующих пунктов можно использовать несколько различных наборов данных.\n",
        "2. Для&nbsp;выбранного датасета (датасетов) на основе материалов [лекции](https://github.com/ugapanyuk/ml_course/blob/master/common/notebooks/missing/handling_missing_norm.ipynb) решить следующие задачи:\n",
        "    * обработку пропусков в данных;\n",
        "    * кодирование категориальных признаков;\n",
        "    * масштабирование данных."
      ]
    },
    {
      "cell_type": "markdown",
      "metadata": {
        "id": "mvpLss-ATG2K",
        "colab_type": "text"
      },
      "source": [
        "# Ход выполнения работы"
      ]
    },
    {
      "cell_type": "markdown",
      "metadata": {
        "id": "i-HO2gecTG2M",
        "colab_type": "text"
      },
      "source": [
        "Подключим все необходимые библиотеки и настроим отображение графиков<cite data-cite=\"doc:ipython,doc:seaborn\"></cite>:"
      ]
    },
    {
      "cell_type": "code",
      "metadata": {
        "id": "rrp0UDdJTG2P",
        "colab_type": "code",
        "colab": {
          "base_uri": "https://localhost:8080/",
          "height": 71
        },
        "outputId": "e8487370-de05-4cf0-c9a1-b2d0e9b22c53"
      },
      "source": [
        "import numpy as np\n",
        "import pandas as pd\n",
        "import seaborn as sns\n",
        "import sklearn.impute\n",
        "import sklearn.preprocessing\n",
        "\n",
        "# Enable inline plots\n",
        "%matplotlib inline\n",
        "\n",
        "# Set plot style\n",
        "sns.set(style=\"ticks\")\n",
        "\n",
        "# Set plots formats to save high resolution PNG\n",
        "from IPython.display import set_matplotlib_formats\n",
        "set_matplotlib_formats(\"retina\")"
      ],
      "execution_count": 1,
      "outputs": [
        {
          "output_type": "stream",
          "text": [
            "/usr/local/lib/python3.6/dist-packages/statsmodels/tools/_testing.py:19: FutureWarning: pandas.util.testing is deprecated. Use the functions in the public API at pandas.testing instead.\n",
            "  import pandas.util.testing as tm\n"
          ],
          "name": "stderr"
        }
      ]
    },
    {
      "cell_type": "markdown",
      "metadata": {
        "id": "rgHIs5khTG2d",
        "colab_type": "text"
      },
      "source": [
        "Зададим ширину текстового представления данных, чтобы в&nbsp;дальнейшем текст в&nbsp;отчёте влезал на&nbsp;А4<cite data-cite=\"doc:pandas\"></cite>:"
      ]
    },
    {
      "cell_type": "code",
      "metadata": {
        "id": "h7jOJF4lTG2g",
        "colab_type": "code",
        "colab": {}
      },
      "source": [
        "pd.set_option(\"display.width\", 70)"
      ],
      "execution_count": 0,
      "outputs": []
    },
    {
      "cell_type": "markdown",
      "metadata": {
        "id": "OU3JIPdRTG2u",
        "colab_type": "text"
      },
      "source": [
        "Для&nbsp;выполнения данной лабораторной работы возьмём набор данных по&nbsp; зарплатам в Огайо<cite data-cite=\"kg:play\"></cite>:"
      ]
    },
    {
      "cell_type": "code",
      "metadata": {
        "id": "kN4F-CVKTG2x",
        "colab_type": "code",
        "colab": {}
      },
      "source": [
        "data = pd.read_csv(\"/content/ohio.csv\")"
      ],
      "execution_count": 0,
      "outputs": []
    },
    {
      "cell_type": "markdown",
      "metadata": {
        "id": "0wOJjfgHTG3A",
        "colab_type": "text"
      },
      "source": [
        "Посмотрим на&nbsp;эти наборы данных:"
      ]
    },
    {
      "cell_type": "code",
      "metadata": {
        "id": "i_-t90NDTG3C",
        "colab_type": "code",
        "colab": {
          "base_uri": "https://localhost:8080/",
          "height": 272
        },
        "outputId": "035805a0-b580-4d13-c8af-37116a679b79"
      },
      "source": [
        "data.head()"
      ],
      "execution_count": 4,
      "outputs": [
        {
          "output_type": "execute_result",
          "data": {
            "text/html": [
              "<div>\n",
              "<style scoped>\n",
              "    .dataframe tbody tr th:only-of-type {\n",
              "        vertical-align: middle;\n",
              "    }\n",
              "\n",
              "    .dataframe tbody tr th {\n",
              "        vertical-align: top;\n",
              "    }\n",
              "\n",
              "    .dataframe thead th {\n",
              "        text-align: right;\n",
              "    }\n",
              "</style>\n",
              "<table border=\"1\" class=\"dataframe\">\n",
              "  <thead>\n",
              "    <tr style=\"text-align: right;\">\n",
              "      <th></th>\n",
              "      <th>Name</th>\n",
              "      <th>Job Titles</th>\n",
              "      <th>Department</th>\n",
              "      <th>Full or Part-Time</th>\n",
              "      <th>Salary or Hourly</th>\n",
              "      <th>Typical Hours</th>\n",
              "      <th>Annual Salary</th>\n",
              "      <th>Hourly Rate</th>\n",
              "    </tr>\n",
              "  </thead>\n",
              "  <tbody>\n",
              "    <tr>\n",
              "      <th>0</th>\n",
              "      <td>ABEJERO,  JASON V</td>\n",
              "      <td>POLICE OFFICER</td>\n",
              "      <td>POLICE</td>\n",
              "      <td>F</td>\n",
              "      <td>Salary</td>\n",
              "      <td>NaN</td>\n",
              "      <td>$90024.00</td>\n",
              "      <td>NaN</td>\n",
              "    </tr>\n",
              "    <tr>\n",
              "      <th>1</th>\n",
              "      <td>ABERCROMBIE IV,  EARL S</td>\n",
              "      <td>PARAMEDIC I/C</td>\n",
              "      <td>FIRE</td>\n",
              "      <td>F</td>\n",
              "      <td>Salary</td>\n",
              "      <td>NaN</td>\n",
              "      <td>$82614.00</td>\n",
              "      <td>NaN</td>\n",
              "    </tr>\n",
              "    <tr>\n",
              "      <th>2</th>\n",
              "      <td>ABERCROMBIE,  TIMOTHY</td>\n",
              "      <td>MOTOR TRUCK DRIVER</td>\n",
              "      <td>STREETS &amp; SAN</td>\n",
              "      <td>F</td>\n",
              "      <td>Hourly</td>\n",
              "      <td>40.0</td>\n",
              "      <td>NaN</td>\n",
              "      <td>$35.60</td>\n",
              "    </tr>\n",
              "    <tr>\n",
              "      <th>3</th>\n",
              "      <td>ABFALL,  RICHARD C</td>\n",
              "      <td>POLICE OFFICER</td>\n",
              "      <td>POLICE</td>\n",
              "      <td>F</td>\n",
              "      <td>Salary</td>\n",
              "      <td>NaN</td>\n",
              "      <td>$48078.00</td>\n",
              "      <td>NaN</td>\n",
              "    </tr>\n",
              "    <tr>\n",
              "      <th>4</th>\n",
              "      <td>ABIOYE,  ADEWOLE A</td>\n",
              "      <td>LIBRARY ASSOCIATE - HOURLY</td>\n",
              "      <td>PUBLIC LIBRARY</td>\n",
              "      <td>P</td>\n",
              "      <td>Hourly</td>\n",
              "      <td>20.0</td>\n",
              "      <td>NaN</td>\n",
              "      <td>$25.10</td>\n",
              "    </tr>\n",
              "  </tbody>\n",
              "</table>\n",
              "</div>"
            ],
            "text/plain": [
              "                      Name  ... Hourly Rate\n",
              "0        ABEJERO,  JASON V  ...         NaN\n",
              "1  ABERCROMBIE IV,  EARL S  ...         NaN\n",
              "2   ABERCROMBIE,  TIMOTHY   ...      $35.60\n",
              "3       ABFALL,  RICHARD C  ...         NaN\n",
              "4       ABIOYE,  ADEWOLE A  ...      $25.10\n",
              "\n",
              "[5 rows x 8 columns]"
            ]
          },
          "metadata": {
            "tags": []
          },
          "execution_count": 4
        }
      ]
    },
    {
      "cell_type": "code",
      "metadata": {
        "id": "RbalXMOTTG3Q",
        "colab_type": "code",
        "colab": {
          "base_uri": "https://localhost:8080/",
          "height": 170
        },
        "outputId": "fb8442c2-749c-46b8-a004-0595cf8efce8"
      },
      "source": [
        "data.dtypes"
      ],
      "execution_count": 5,
      "outputs": [
        {
          "output_type": "execute_result",
          "data": {
            "text/plain": [
              "Name                  object\n",
              "Job Titles            object\n",
              "Department            object\n",
              "Full or Part-Time     object\n",
              "Salary or Hourly      object\n",
              "Typical Hours        float64\n",
              "Annual Salary         object\n",
              "Hourly Rate           object\n",
              "dtype: object"
            ]
          },
          "metadata": {
            "tags": []
          },
          "execution_count": 5
        }
      ]
    },
    {
      "cell_type": "code",
      "metadata": {
        "id": "b40u1qJzTG3j",
        "colab_type": "code",
        "colab": {
          "base_uri": "https://localhost:8080/",
          "height": 34
        },
        "outputId": "41156aa4-e07f-4acd-d43f-803ca7648cb0"
      },
      "source": [
        "data.shape"
      ],
      "execution_count": 6,
      "outputs": [
        {
          "output_type": "execute_result",
          "data": {
            "text/plain": [
              "(33161, 8)"
            ]
          },
          "metadata": {
            "tags": []
          },
          "execution_count": 6
        }
      ]
    },
    {
      "cell_type": "markdown",
      "metadata": {
        "id": "NEd3CKe7TG3z",
        "colab_type": "text"
      },
      "source": [
        "## Обработка пропусков в&nbsp;данных"
      ]
    },
    {
      "cell_type": "markdown",
      "metadata": {
        "id": "whQcgyDpTG31",
        "colab_type": "text"
      },
      "source": [
        "Найдем все пропуски в&nbsp;данных:"
      ]
    },
    {
      "cell_type": "code",
      "metadata": {
        "id": "IhijRRcdTG35",
        "colab_type": "code",
        "colab": {
          "base_uri": "https://localhost:8080/",
          "height": 170
        },
        "outputId": "4ba25ef0-7d80-41f2-d891-537a9fbce4c8"
      },
      "source": [
        "data.isnull().sum()"
      ],
      "execution_count": 7,
      "outputs": [
        {
          "output_type": "execute_result",
          "data": {
            "text/plain": [
              "Name                     0\n",
              "Job Titles               0\n",
              "Department               0\n",
              "Full or Part-Time        0\n",
              "Salary or Hourly         0\n",
              "Typical Hours        25146\n",
              "Annual Salary         8015\n",
              "Hourly Rate          25146\n",
              "dtype: int64"
            ]
          },
          "metadata": {
            "tags": []
          },
          "execution_count": 7
        }
      ]
    },
    {
      "cell_type": "markdown",
      "metadata": {
        "id": "jwXHQp2nTG4G",
        "colab_type": "text"
      },
      "source": [
        "Очевидно, что мы будем работать с&nbsp;колонкой `Typical Hours`."
      ]
    },
    {
      "cell_type": "markdown",
      "metadata": {
        "id": "nSD0VutyTG4L",
        "colab_type": "text"
      },
      "source": [
        "Самый простой вариант — заполнить пропуски нулями:"
      ]
    },
    {
      "cell_type": "code",
      "metadata": {
        "id": "OwMU6KqvTG4P",
        "colab_type": "code",
        "colab": {
          "base_uri": "https://localhost:8080/",
          "height": 284
        },
        "outputId": "4d636acd-86c8-4740-9a96-416964acfe5b"
      },
      "source": [
        "sns.distplot(data[\"Typical Hours\"].fillna(0));"
      ],
      "execution_count": 8,
      "outputs": [
        {
          "output_type": "display_data",
          "data": {
            "image/png": "[encoded data removed]",
            "text/plain": [
              "<Figure size 432x288 with 1 Axes>"
            ]
          },
          "metadata": {
            "tags": [],
            "image/png": {
              "width": 376,
              "height": 267
            },
            "needs_background": "light"
          }
        }
      ]
    },
    {
      "cell_type": "markdown",
      "metadata": {
        "id": "E1EQwqBPTG4e",
        "colab_type": "text"
      },
      "source": [
        "Видно, что в&nbsp;данной ситуации это приводит к&nbsp;выбросам. Логичнее было бы приложениям без&nbsp;часов присваивать среднее кол-во часов:"
      ]
    },
    {
      "cell_type": "code",
      "metadata": {
        "id": "M7jrxqkdTG4g",
        "colab_type": "code",
        "colab": {
          "base_uri": "https://localhost:8080/",
          "height": 268
        },
        "outputId": "151cafe4-3db2-4a7d-b9d6-76d8fc5ee71a"
      },
      "source": [
        "mean_imp = sklearn.impute.SimpleImputer(strategy=\"mean\")\n",
        "mean_rat = mean_imp.fit_transform(data[[\"Typical Hours\"]])\n",
        "sns.distplot(mean_rat);"
      ],
      "execution_count": 9,
      "outputs": [
        {
          "output_type": "display_data",
          "data": {
            "image/png": "[encoded data removed]",
            "text/plain": [
              "<Figure size 432x288 with 1 Axes>"
            ]
          },
          "metadata": {
            "tags": [],
            "image/png": {
              "width": 376,
              "height": 251
            },
            "needs_background": "light"
          }
        }
      ]
    },
    {
      "cell_type": "markdown",
      "metadata": {
        "id": "6fAKaGIXTG4u",
        "colab_type": "text"
      },
      "source": [
        "Попробуем также медианное кол-во часови самое частое кол-во часов:"
      ]
    },
    {
      "cell_type": "code",
      "metadata": {
        "id": "pfxJuwswTG4x",
        "colab_type": "code",
        "colab": {
          "base_uri": "https://localhost:8080/",
          "height": 268
        },
        "outputId": "ee68d795-54a9-4353-9395-42518ef76abd"
      },
      "source": [
        "med_imp = sklearn.impute.SimpleImputer(strategy=\"median\")\n",
        "med_rat = med_imp.fit_transform(data[[\"Typical Hours\"]])\n",
        "sns.distplot(med_rat);"
      ],
      "execution_count": 10,
      "outputs": [
        {
          "output_type": "display_data",
          "data": {
            "image/png": "[encoded data removed]",
            "text/plain": [
              "<Figure size 432x288 with 1 Axes>"
            ]
          },
          "metadata": {
            "tags": [],
            "image/png": {
              "width": 365,
              "height": 251
            },
            "needs_background": "light"
          }
        }
      ]
    },
    {
      "cell_type": "code",
      "metadata": {
        "id": "AyygtH2gTG4_",
        "colab_type": "code",
        "colab": {
          "base_uri": "https://localhost:8080/",
          "height": 268
        },
        "outputId": "909aa604-dfaf-404b-f576-6b10ab009726"
      },
      "source": [
        "freq_imp = sklearn.impute.SimpleImputer(strategy=\"most_frequent\")\n",
        "freq_rat = freq_imp.fit_transform(data[[\"Typical Hours\"]])\n",
        "sns.distplot(freq_rat);"
      ],
      "execution_count": 11,
      "outputs": [
        {
          "output_type": "display_data",
          "data": {
            "image/png": "[encoded data removed]",
            "text/plain": [
              "<Figure size 432x288 with 1 Axes>"
            ]
          },
          "metadata": {
            "tags": [],
            "image/png": {
              "width": 365,
              "height": 251
            },
            "needs_background": "light"
          }
        }
      ]
    },
    {
      "cell_type": "markdown",
      "metadata": {
        "id": "TJt5-T92TG5P",
        "colab_type": "text"
      },
      "source": [
        "Видно, что получили одинаковые результаты. Остановимся на&nbsp; обычном среднем значении:"
      ]
    },
    {
      "cell_type": "code",
      "metadata": {
        "id": "tvzXl0P9TG5U",
        "colab_type": "code",
        "colab": {}
      },
      "source": [
        "data[\"Typical Hours\"] = mean_rat"
      ],
      "execution_count": 0,
      "outputs": []
    },
    {
      "cell_type": "markdown",
      "metadata": {
        "id": "hvMvw9loTG5j",
        "colab_type": "text"
      },
      "source": [
        "## Кодирование категориальных признаков"
      ]
    },
    {
      "cell_type": "markdown",
      "metadata": {
        "id": "wvqZKxWHTG5m",
        "colab_type": "text"
      },
      "source": [
        "Рассмотрим колонку `Salary or Hourly`:"
      ]
    },
    {
      "cell_type": "code",
      "metadata": {
        "id": "8-_mgDNlTG5q",
        "colab_type": "code",
        "colab": {
          "base_uri": "https://localhost:8080/",
          "height": 68
        },
        "outputId": "cbe641bd-a7f0-4789-b948-6559412addda"
      },
      "source": [
        "types = data[\"Salary or Hourly\"].dropna().astype(str)\n",
        "types.value_counts()"
      ],
      "execution_count": 13,
      "outputs": [
        {
          "output_type": "execute_result",
          "data": {
            "text/plain": [
              "Salary    25146\n",
              "Hourly     8015\n",
              "Name: Salary or Hourly, dtype: int64"
            ]
          },
          "metadata": {
            "tags": []
          },
          "execution_count": 13
        }
      ]
    },
    {
      "cell_type": "markdown",
      "metadata": {
        "id": "yLc0rEe6TG56",
        "colab_type": "text"
      },
      "source": [
        "Выполним кодирование категорий целочисленными значениями:"
      ]
    },
    {
      "cell_type": "code",
      "metadata": {
        "id": "F4hDu_jsTG58",
        "colab_type": "code",
        "colab": {
          "base_uri": "https://localhost:8080/",
          "height": 51
        },
        "outputId": "b011368b-f0c8-498e-fc20-58453eb0b813"
      },
      "source": [
        "le = sklearn.preprocessing.LabelEncoder()\n",
        "type_le = le.fit_transform(types)\n",
        "print(np.unique(type_le))\n",
        "le.inverse_transform(np.unique(type_le))"
      ],
      "execution_count": 14,
      "outputs": [
        {
          "output_type": "stream",
          "text": [
            "[0 1]\n"
          ],
          "name": "stdout"
        },
        {
          "output_type": "execute_result",
          "data": {
            "text/plain": [
              "array(['Hourly', 'Salary'], dtype=object)"
            ]
          },
          "metadata": {
            "tags": []
          },
          "execution_count": 14
        }
      ]
    },
    {
      "cell_type": "markdown",
      "metadata": {
        "id": "vBBh89SrTG6V",
        "colab_type": "text"
      },
      "source": [
        "Выполним кодирование категорий наборами бинарных значений:"
      ]
    },
    {
      "cell_type": "code",
      "metadata": {
        "id": "Yho0qRDbTG6X",
        "colab_type": "code",
        "colab": {
          "base_uri": "https://localhost:8080/",
          "height": 204
        },
        "outputId": "58901e8e-6dd2-441c-d708-51cd84ca98f1"
      },
      "source": [
        "type_oh = pd.get_dummies(types)\n",
        "type_oh.head()"
      ],
      "execution_count": 15,
      "outputs": [
        {
          "output_type": "execute_result",
          "data": {
            "text/html": [
              "<div>\n",
              "<style scoped>\n",
              "    .dataframe tbody tr th:only-of-type {\n",
              "        vertical-align: middle;\n",
              "    }\n",
              "\n",
              "    .dataframe tbody tr th {\n",
              "        vertical-align: top;\n",
              "    }\n",
              "\n",
              "    .dataframe thead th {\n",
              "        text-align: right;\n",
              "    }\n",
              "</style>\n",
              "<table border=\"1\" class=\"dataframe\">\n",
              "  <thead>\n",
              "    <tr style=\"text-align: right;\">\n",
              "      <th></th>\n",
              "      <th>Hourly</th>\n",
              "      <th>Salary</th>\n",
              "    </tr>\n",
              "  </thead>\n",
              "  <tbody>\n",
              "    <tr>\n",
              "      <th>0</th>\n",
              "      <td>0</td>\n",
              "      <td>1</td>\n",
              "    </tr>\n",
              "    <tr>\n",
              "      <th>1</th>\n",
              "      <td>0</td>\n",
              "      <td>1</td>\n",
              "    </tr>\n",
              "    <tr>\n",
              "      <th>2</th>\n",
              "      <td>1</td>\n",
              "      <td>0</td>\n",
              "    </tr>\n",
              "    <tr>\n",
              "      <th>3</th>\n",
              "      <td>0</td>\n",
              "      <td>1</td>\n",
              "    </tr>\n",
              "    <tr>\n",
              "      <th>4</th>\n",
              "      <td>1</td>\n",
              "      <td>0</td>\n",
              "    </tr>\n",
              "  </tbody>\n",
              "</table>\n",
              "</div>"
            ],
            "text/plain": [
              "   Hourly  Salary\n",
              "0       0       1\n",
              "1       0       1\n",
              "2       1       0\n",
              "3       0       1\n",
              "4       1       0"
            ]
          },
          "metadata": {
            "tags": []
          },
          "execution_count": 15
        }
      ]
    },
    {
      "cell_type": "code",
      "metadata": {
        "id": "epwJa8-2TG6k",
        "colab_type": "code",
        "colab": {
          "base_uri": "https://localhost:8080/",
          "height": 204
        },
        "outputId": "2c229926-7bcc-46c4-ba95-eb52ee860498"
      },
      "source": [
        "type_oh[type_oh[\"Hourly\"] == 1].head()"
      ],
      "execution_count": 16,
      "outputs": [
        {
          "output_type": "execute_result",
          "data": {
            "text/html": [
              "<div>\n",
              "<style scoped>\n",
              "    .dataframe tbody tr th:only-of-type {\n",
              "        vertical-align: middle;\n",
              "    }\n",
              "\n",
              "    .dataframe tbody tr th {\n",
              "        vertical-align: top;\n",
              "    }\n",
              "\n",
              "    .dataframe thead th {\n",
              "        text-align: right;\n",
              "    }\n",
              "</style>\n",
              "<table border=\"1\" class=\"dataframe\">\n",
              "  <thead>\n",
              "    <tr style=\"text-align: right;\">\n",
              "      <th></th>\n",
              "      <th>Hourly</th>\n",
              "      <th>Salary</th>\n",
              "    </tr>\n",
              "  </thead>\n",
              "  <tbody>\n",
              "    <tr>\n",
              "      <th>2</th>\n",
              "      <td>1</td>\n",
              "      <td>0</td>\n",
              "    </tr>\n",
              "    <tr>\n",
              "      <th>4</th>\n",
              "      <td>1</td>\n",
              "      <td>0</td>\n",
              "    </tr>\n",
              "    <tr>\n",
              "      <th>11</th>\n",
              "      <td>1</td>\n",
              "      <td>0</td>\n",
              "    </tr>\n",
              "    <tr>\n",
              "      <th>14</th>\n",
              "      <td>1</td>\n",
              "      <td>0</td>\n",
              "    </tr>\n",
              "    <tr>\n",
              "      <th>17</th>\n",
              "      <td>1</td>\n",
              "      <td>0</td>\n",
              "    </tr>\n",
              "  </tbody>\n",
              "</table>\n",
              "</div>"
            ],
            "text/plain": [
              "    Hourly  Salary\n",
              "2        1       0\n",
              "4        1       0\n",
              "11       1       0\n",
              "14       1       0\n",
              "17       1       0"
            ]
          },
          "metadata": {
            "tags": []
          },
          "execution_count": 16
        }
      ]
    },
    {
      "cell_type": "markdown",
      "metadata": {
        "id": "Uu6-Ujp5TG6y",
        "colab_type": "text"
      },
      "source": [
        "## Масштабирование данных"
      ]
    },
    {
      "cell_type": "markdown",
      "metadata": {
        "id": "hCHl1MHNTG60",
        "colab_type": "text"
      },
      "source": [
        "Для&nbsp;начала попробуем обычное MinMax-масштабирование:"
      ]
    },
    {
      "cell_type": "code",
      "metadata": {
        "id": "TQRKK5jBTG62",
        "colab_type": "code",
        "colab": {
          "base_uri": "https://localhost:8080/",
          "height": 268
        },
        "outputId": "32a3b7ac-a99a-485e-f1b1-b2758705ad4e"
      },
      "source": [
        "mm = sklearn.preprocessing.MinMaxScaler()\n",
        "sns.distplot(mm.fit_transform(data[[\"Typical Hours\"]]));"
      ],
      "execution_count": 17,
      "outputs": [
        {
          "output_type": "display_data",
          "data": {
            "image/png": "[encoded data removed]",
            "text/plain": [
              "<Figure size 432x288 with 1 Axes>"
            ]
          },
          "metadata": {
            "tags": [],
            "image/png": {
              "width": 379,
              "height": 251
            },
            "needs_background": "light"
          }
        }
      ]
    },
    {
      "cell_type": "markdown",
      "metadata": {
        "id": "d8EAfqKWTG7A",
        "colab_type": "text"
      },
      "source": [
        "Результат вполне ожидаемый и вполне приемлемый. Но попробуем и другие варианты, например, масштабирование на&nbsp;основе Z-оценки:"
      ]
    },
    {
      "cell_type": "code",
      "metadata": {
        "id": "e25r_zpVTG7C",
        "colab_type": "code",
        "colab": {
          "base_uri": "https://localhost:8080/",
          "height": 268
        },
        "outputId": "11c1e28e-77f2-47c4-d11e-6f4f2cc099b8"
      },
      "source": [
        "ss = sklearn.preprocessing.StandardScaler()\n",
        "sns.distplot(ss.fit_transform(data[[\"Typical Hours\"]]));"
      ],
      "execution_count": 18,
      "outputs": [
        {
          "output_type": "display_data",
          "data": {
            "image/png": "[encoded data removed]",
            "text/plain": [
              "<Figure size 432x288 with 1 Axes>"
            ]
          },
          "metadata": {
            "tags": [],
            "image/png": {
              "width": 372,
              "height": 251
            },
            "needs_background": "light"
          }
        }
      ]
    },
    {
      "cell_type": "markdown",
      "metadata": {
        "id": "ef3fd1t2TG7M",
        "colab_type": "text"
      },
      "source": [
        "Также результат ожидаемый, но его применимость зависит от&nbsp;дальнейшего использования."
      ]
    }
  ]
}