{
  "nbformat": 4,
  "nbformat_minor": 0,
  "metadata": {
    "authors": [
      {
        "name": "Бурашников Владимир Владимирович"
      }
    ],
    "group": "ИУ5-22М",
    "kernelspec": {
      "display_name": "Python 3",
      "language": "python",
      "name": "python3"
    },
    "lab_number": 6,
    "language_info": {
      "codemirror_mode": {
        "name": "ipython",
        "version": 3
      },
      "file_extension": ".py",
      "mimetype": "text/x-python",
      "name": "python",
      "nbconvert_exporter": "python",
      "pygments_lexer": "ipython3",
      "version": "3.6.10"
    },
    "title": "Ансамбли моделей машинного обучения",
    "colab": {
      "name": "ensembles.ipynb",
      "provenance": [],
      "toc_visible": true
    }
  },
  "cells": [
    {
      "cell_type": "markdown",
      "metadata": {
        "id": "YE70JNOMYYTn",
        "colab_type": "text"
      },
      "source": [
        "Демьянчук Г.В. ИУ5-22М Л/Р №6"
      ]
    },
    {
      "cell_type": "markdown",
      "metadata": {
        "id": "uQmQ3RRTIqET",
        "colab_type": "text"
      },
      "source": [
        "# Цель лабораторной работы\n",
        "Изучить ансамбли моделей машинного обучения<cite data-cite=\"ue:lab6\"></cite>."
      ]
    },
    {
      "cell_type": "markdown",
      "metadata": {
        "id": "kvyh9bQoIqEX",
        "colab_type": "text"
      },
      "source": [
        "# Задание\n",
        "Требуется выполнить следующие действия<cite data-cite=\"ue:lab6\"></cite>:\n",
        "\n",
        "1. Выбрать набор данных (датасет) для&nbsp;решения задачи классификации или регресии.\n",
        "2. В&nbsp;случае необходимости проведите удаление или заполнение пропусков и кодирование категориальных признаков.\n",
        "3. С&nbsp;использованием метода `train_test_split` разделите выборку на&nbsp;обучающую и тестовую.\n",
        "4. Обучите две ансамблевые модели. Оцените качество модели с&nbsp;помощью одной из&nbsp;подходящих для&nbsp;задачи метрик. Сравните качество полученных моделей.\n",
        "5. Произведите для&nbsp;каждой модели подбор одного гиперпараметра. В&nbsp;зависимости от&nbsp;используемой библиотеки можно применять функцию `GridSearchCV`, использовать перебор параметров в&nbsp;цикле, или использовать другие методы.\n",
        "6. Повторите пункт&nbsp;4 для&nbsp;найденных оптимальных значения гиперпараметров. Сравните качество полученных моделей с&nbsp;качеством моделей, полученных в&nbsp;пункте&nbsp;4."
      ]
    },
    {
      "cell_type": "markdown",
      "metadata": {
        "id": "YB2XgTLTIqEb",
        "colab_type": "text"
      },
      "source": [
        "# Ход выполнения работы"
      ]
    },
    {
      "cell_type": "markdown",
      "metadata": {
        "id": "zFL7QfHDIqEd",
        "colab_type": "text"
      },
      "source": [
        "Подключим все необходимые библиотеки и настроим отображение графиков<cite data-cite=\"doc:ipython,doc:seaborn\"></cite>:"
      ]
    },
    {
      "cell_type": "code",
      "metadata": {
        "id": "p1U2e2ElIqEo",
        "colab_type": "code",
        "colab": {}
      },
      "source": [
        "from datetime import datetime\n",
        "import matplotlib.pyplot as plt\n",
        "import numpy as np\n",
        "import pandas as pd\n",
        "from sklearn.ensemble import GradientBoostingRegressor\n",
        "from sklearn.ensemble import RandomForestRegressor\n",
        "from sklearn.metrics import mean_absolute_error\n",
        "from sklearn.metrics import median_absolute_error, r2_score\n",
        "from sklearn.model_selection import GridSearchCV\n",
        "from sklearn.model_selection import ShuffleSplit\n",
        "from sklearn.model_selection import train_test_split\n",
        "from sklearn.preprocessing import StandardScaler\n",
        "\n",
        "# Enable inline plots\n",
        "%matplotlib inline\n",
        "\n",
        "# Set plots formats to save high resolution PNG\n",
        "from IPython.display import set_matplotlib_formats\n",
        "set_matplotlib_formats(\"retina\")"
      ],
      "execution_count": 0,
      "outputs": []
    },
    {
      "cell_type": "markdown",
      "metadata": {
        "id": "cpwC4dylIqE5",
        "colab_type": "text"
      },
      "source": [
        "Зададим ширину текстового представления данных, чтобы в&nbsp;дальнейшем текст в&nbsp;отчёте влезал на&nbsp;А4<cite data-cite=\"doc:pandas\"></cite>:"
      ]
    },
    {
      "cell_type": "code",
      "metadata": {
        "id": "LI5-05BZIqE7",
        "colab_type": "code",
        "colab": {}
      },
      "source": [
        "pd.set_option(\"display.width\", 70)"
      ],
      "execution_count": 0,
      "outputs": []
    },
    {
      "cell_type": "markdown",
      "metadata": {
        "id": "kQo6wTa5IqFG",
        "colab_type": "text"
      },
      "source": [
        "## Предварительная подготовка данных"
      ]
    },
    {
      "cell_type": "markdown",
      "metadata": {
        "id": "lTNML7FmIqFJ",
        "colab_type": "text"
      },
      "source": [
        "В&nbsp;качестве набора данных используется оценка качества белых вин по шкале с учетом химических мер каждого вина:"
      ]
    },
    {
      "cell_type": "code",
      "metadata": {
        "id": "o_LzoiiYIqFL",
        "colab_type": "code",
        "colab": {}
      },
      "source": [
        "data = pd.read_csv(\"/content/whitew.csv\")"
      ],
      "execution_count": 0,
      "outputs": []
    },
    {
      "cell_type": "markdown",
      "metadata": {
        "id": "JWbLRhNDIqFW",
        "colab_type": "text"
      },
      "source": [
        "Проверим полученные типы:"
      ]
    },
    {
      "cell_type": "code",
      "metadata": {
        "id": "WIiBQZZjIqFY",
        "colab_type": "code",
        "colab": {
          "base_uri": "https://localhost:8080/",
          "height": 238
        },
        "outputId": "1006cde5-5bd6-445f-aec1-acb085ce1bb3"
      },
      "source": [
        "data.dtypes"
      ],
      "execution_count": 4,
      "outputs": [
        {
          "output_type": "execute_result",
          "data": {
            "text/plain": [
              "fixed acidity           float64\n",
              "volatile acidity        float64\n",
              "citric acid             float64\n",
              "residual sugar          float64\n",
              "chlorides               float64\n",
              "free sulfur dioxide     float64\n",
              "total sulfur dioxide    float64\n",
              "density                 float64\n",
              "pH                      float64\n",
              "sulphates               float64\n",
              "alcohol                 float64\n",
              "quality                   int64\n",
              "dtype: object"
            ]
          },
          "metadata": {
            "tags": []
          },
          "execution_count": 4
        }
      ]
    },
    {
      "cell_type": "markdown",
      "metadata": {
        "id": "R_Sg8O0VIqFo",
        "colab_type": "text"
      },
      "source": [
        "Посмотрим на данные в&nbsp;данном наборе данных:"
      ]
    },
    {
      "cell_type": "code",
      "metadata": {
        "scrolled": false,
        "id": "nl14fsCQIqFr",
        "colab_type": "code",
        "colab": {
          "base_uri": "https://localhost:8080/",
          "height": 238
        },
        "outputId": "ff5c9ff5-fb15-4324-a05d-5a162d622558"
      },
      "source": [
        "data.head()"
      ],
      "execution_count": 5,
      "outputs": [
        {
          "output_type": "execute_result",
          "data": {
            "text/html": [
              "<div>\n",
              "<style scoped>\n",
              "    .dataframe tbody tr th:only-of-type {\n",
              "        vertical-align: middle;\n",
              "    }\n",
              "\n",
              "    .dataframe tbody tr th {\n",
              "        vertical-align: top;\n",
              "    }\n",
              "\n",
              "    .dataframe thead th {\n",
              "        text-align: right;\n",
              "    }\n",
              "</style>\n",
              "<table border=\"1\" class=\"dataframe\">\n",
              "  <thead>\n",
              "    <tr style=\"text-align: right;\">\n",
              "      <th></th>\n",
              "      <th>fixed acidity</th>\n",
              "      <th>volatile acidity</th>\n",
              "      <th>citric acid</th>\n",
              "      <th>residual sugar</th>\n",
              "      <th>chlorides</th>\n",
              "      <th>free sulfur dioxide</th>\n",
              "      <th>total sulfur dioxide</th>\n",
              "      <th>density</th>\n",
              "      <th>pH</th>\n",
              "      <th>sulphates</th>\n",
              "      <th>alcohol</th>\n",
              "      <th>quality</th>\n",
              "    </tr>\n",
              "  </thead>\n",
              "  <tbody>\n",
              "    <tr>\n",
              "      <th>0</th>\n",
              "      <td>7.4</td>\n",
              "      <td>0.70</td>\n",
              "      <td>0.00</td>\n",
              "      <td>1.9</td>\n",
              "      <td>0.076</td>\n",
              "      <td>11.0</td>\n",
              "      <td>34.0</td>\n",
              "      <td>0.9978</td>\n",
              "      <td>3.51</td>\n",
              "      <td>0.56</td>\n",
              "      <td>9.4</td>\n",
              "      <td>5</td>\n",
              "    </tr>\n",
              "    <tr>\n",
              "      <th>1</th>\n",
              "      <td>7.8</td>\n",
              "      <td>0.88</td>\n",
              "      <td>0.00</td>\n",
              "      <td>2.6</td>\n",
              "      <td>0.098</td>\n",
              "      <td>25.0</td>\n",
              "      <td>67.0</td>\n",
              "      <td>0.9968</td>\n",
              "      <td>3.20</td>\n",
              "      <td>0.68</td>\n",
              "      <td>9.8</td>\n",
              "      <td>5</td>\n",
              "    </tr>\n",
              "    <tr>\n",
              "      <th>2</th>\n",
              "      <td>7.8</td>\n",
              "      <td>0.76</td>\n",
              "      <td>0.04</td>\n",
              "      <td>2.3</td>\n",
              "      <td>0.092</td>\n",
              "      <td>15.0</td>\n",
              "      <td>54.0</td>\n",
              "      <td>0.9970</td>\n",
              "      <td>3.26</td>\n",
              "      <td>0.65</td>\n",
              "      <td>9.8</td>\n",
              "      <td>5</td>\n",
              "    </tr>\n",
              "    <tr>\n",
              "      <th>3</th>\n",
              "      <td>11.2</td>\n",
              "      <td>0.28</td>\n",
              "      <td>0.56</td>\n",
              "      <td>1.9</td>\n",
              "      <td>0.075</td>\n",
              "      <td>17.0</td>\n",
              "      <td>60.0</td>\n",
              "      <td>0.9980</td>\n",
              "      <td>3.16</td>\n",
              "      <td>0.58</td>\n",
              "      <td>9.8</td>\n",
              "      <td>6</td>\n",
              "    </tr>\n",
              "    <tr>\n",
              "      <th>4</th>\n",
              "      <td>7.4</td>\n",
              "      <td>0.70</td>\n",
              "      <td>0.00</td>\n",
              "      <td>1.9</td>\n",
              "      <td>0.076</td>\n",
              "      <td>11.0</td>\n",
              "      <td>34.0</td>\n",
              "      <td>0.9978</td>\n",
              "      <td>3.51</td>\n",
              "      <td>0.56</td>\n",
              "      <td>9.4</td>\n",
              "      <td>5</td>\n",
              "    </tr>\n",
              "  </tbody>\n",
              "</table>\n",
              "</div>"
            ],
            "text/plain": [
              "   fixed acidity  volatile acidity  citric acid  ...  sulphates  alcohol  quality\n",
              "0            7.4              0.70         0.00  ...       0.56      9.4        5\n",
              "1            7.8              0.88         0.00  ...       0.68      9.8        5\n",
              "2            7.8              0.76         0.04  ...       0.65      9.8        5\n",
              "3           11.2              0.28         0.56  ...       0.58      9.8        6\n",
              "4            7.4              0.70         0.00  ...       0.56      9.4        5\n",
              "\n",
              "[5 rows x 12 columns]"
            ]
          },
          "metadata": {
            "tags": []
          },
          "execution_count": 5
        }
      ]
    },
    {
      "cell_type": "code",
      "metadata": {
        "id": "NycI1-ajIqF3",
        "colab_type": "code",
        "colab": {
          "base_uri": "https://localhost:8080/",
          "height": 238
        },
        "outputId": "613a4684-9110-473d-a917-b960d9a0a6f0"
      },
      "source": [
        "df = data.copy()\n",
        "df.head()"
      ],
      "execution_count": 6,
      "outputs": [
        {
          "output_type": "execute_result",
          "data": {
            "text/html": [
              "<div>\n",
              "<style scoped>\n",
              "    .dataframe tbody tr th:only-of-type {\n",
              "        vertical-align: middle;\n",
              "    }\n",
              "\n",
              "    .dataframe tbody tr th {\n",
              "        vertical-align: top;\n",
              "    }\n",
              "\n",
              "    .dataframe thead th {\n",
              "        text-align: right;\n",
              "    }\n",
              "</style>\n",
              "<table border=\"1\" class=\"dataframe\">\n",
              "  <thead>\n",
              "    <tr style=\"text-align: right;\">\n",
              "      <th></th>\n",
              "      <th>fixed acidity</th>\n",
              "      <th>volatile acidity</th>\n",
              "      <th>citric acid</th>\n",
              "      <th>residual sugar</th>\n",
              "      <th>chlorides</th>\n",
              "      <th>free sulfur dioxide</th>\n",
              "      <th>total sulfur dioxide</th>\n",
              "      <th>density</th>\n",
              "      <th>pH</th>\n",
              "      <th>sulphates</th>\n",
              "      <th>alcohol</th>\n",
              "      <th>quality</th>\n",
              "    </tr>\n",
              "  </thead>\n",
              "  <tbody>\n",
              "    <tr>\n",
              "      <th>0</th>\n",
              "      <td>7.4</td>\n",
              "      <td>0.70</td>\n",
              "      <td>0.00</td>\n",
              "      <td>1.9</td>\n",
              "      <td>0.076</td>\n",
              "      <td>11.0</td>\n",
              "      <td>34.0</td>\n",
              "      <td>0.9978</td>\n",
              "      <td>3.51</td>\n",
              "      <td>0.56</td>\n",
              "      <td>9.4</td>\n",
              "      <td>5</td>\n",
              "    </tr>\n",
              "    <tr>\n",
              "      <th>1</th>\n",
              "      <td>7.8</td>\n",
              "      <td>0.88</td>\n",
              "      <td>0.00</td>\n",
              "      <td>2.6</td>\n",
              "      <td>0.098</td>\n",
              "      <td>25.0</td>\n",
              "      <td>67.0</td>\n",
              "      <td>0.9968</td>\n",
              "      <td>3.20</td>\n",
              "      <td>0.68</td>\n",
              "      <td>9.8</td>\n",
              "      <td>5</td>\n",
              "    </tr>\n",
              "    <tr>\n",
              "      <th>2</th>\n",
              "      <td>7.8</td>\n",
              "      <td>0.76</td>\n",
              "      <td>0.04</td>\n",
              "      <td>2.3</td>\n",
              "      <td>0.092</td>\n",
              "      <td>15.0</td>\n",
              "      <td>54.0</td>\n",
              "      <td>0.9970</td>\n",
              "      <td>3.26</td>\n",
              "      <td>0.65</td>\n",
              "      <td>9.8</td>\n",
              "      <td>5</td>\n",
              "    </tr>\n",
              "    <tr>\n",
              "      <th>3</th>\n",
              "      <td>11.2</td>\n",
              "      <td>0.28</td>\n",
              "      <td>0.56</td>\n",
              "      <td>1.9</td>\n",
              "      <td>0.075</td>\n",
              "      <td>17.0</td>\n",
              "      <td>60.0</td>\n",
              "      <td>0.9980</td>\n",
              "      <td>3.16</td>\n",
              "      <td>0.58</td>\n",
              "      <td>9.8</td>\n",
              "      <td>6</td>\n",
              "    </tr>\n",
              "    <tr>\n",
              "      <th>4</th>\n",
              "      <td>7.4</td>\n",
              "      <td>0.70</td>\n",
              "      <td>0.00</td>\n",
              "      <td>1.9</td>\n",
              "      <td>0.076</td>\n",
              "      <td>11.0</td>\n",
              "      <td>34.0</td>\n",
              "      <td>0.9978</td>\n",
              "      <td>3.51</td>\n",
              "      <td>0.56</td>\n",
              "      <td>9.4</td>\n",
              "      <td>5</td>\n",
              "    </tr>\n",
              "  </tbody>\n",
              "</table>\n",
              "</div>"
            ],
            "text/plain": [
              "   fixed acidity  volatile acidity  citric acid  ...  sulphates  alcohol  quality\n",
              "0            7.4              0.70         0.00  ...       0.56      9.4        5\n",
              "1            7.8              0.88         0.00  ...       0.68      9.8        5\n",
              "2            7.8              0.76         0.04  ...       0.65      9.8        5\n",
              "3           11.2              0.28         0.56  ...       0.58      9.8        6\n",
              "4            7.4              0.70         0.00  ...       0.56      9.4        5\n",
              "\n",
              "[5 rows x 12 columns]"
            ]
          },
          "metadata": {
            "tags": []
          },
          "execution_count": 6
        }
      ]
    },
    {
      "cell_type": "code",
      "metadata": {
        "id": "MgCYITS3IqGF",
        "colab_type": "code",
        "colab": {
          "base_uri": "https://localhost:8080/",
          "height": 238
        },
        "outputId": "69489aa5-78f7-4016-b840-f50020ac3989"
      },
      "source": [
        "df.dtypes"
      ],
      "execution_count": 7,
      "outputs": [
        {
          "output_type": "execute_result",
          "data": {
            "text/plain": [
              "fixed acidity           float64\n",
              "volatile acidity        float64\n",
              "citric acid             float64\n",
              "residual sugar          float64\n",
              "chlorides               float64\n",
              "free sulfur dioxide     float64\n",
              "total sulfur dioxide    float64\n",
              "density                 float64\n",
              "pH                      float64\n",
              "sulphates               float64\n",
              "alcohol                 float64\n",
              "quality                   int64\n",
              "dtype: object"
            ]
          },
          "metadata": {
            "tags": []
          },
          "execution_count": 7
        }
      ]
    },
    {
      "cell_type": "markdown",
      "metadata": {
        "id": "teaCJ9N6IqGQ",
        "colab_type": "text"
      },
      "source": [
        "С&nbsp;такими данными уже можно работать. Проверим размер набора данных:"
      ]
    },
    {
      "cell_type": "code",
      "metadata": {
        "id": "t4kvapM8IqGS",
        "colab_type": "code",
        "colab": {
          "base_uri": "https://localhost:8080/",
          "height": 34
        },
        "outputId": "b4d6737f-e2be-4fe2-c891-d76b84b5483d"
      },
      "source": [
        "df.shape"
      ],
      "execution_count": 8,
      "outputs": [
        {
          "output_type": "execute_result",
          "data": {
            "text/plain": [
              "(1599, 12)"
            ]
          },
          "metadata": {
            "tags": []
          },
          "execution_count": 8
        }
      ]
    },
    {
      "cell_type": "markdown",
      "metadata": {
        "id": "Lrf7KucsIqGh",
        "colab_type": "text"
      },
      "source": [
        "Проверим основные статистические характеристики набора данных:"
      ]
    },
    {
      "cell_type": "code",
      "metadata": {
        "id": "G6JpEEbuIqGj",
        "colab_type": "code",
        "colab": {
          "base_uri": "https://localhost:8080/",
          "height": 351
        },
        "outputId": "21d53403-a46d-4253-a713-5edf11741eaf"
      },
      "source": [
        "df.describe()"
      ],
      "execution_count": 9,
      "outputs": [
        {
          "output_type": "execute_result",
          "data": {
            "text/html": [
              "<div>\n",
              "<style scoped>\n",
              "    .dataframe tbody tr th:only-of-type {\n",
              "        vertical-align: middle;\n",
              "    }\n",
              "\n",
              "    .dataframe tbody tr th {\n",
              "        vertical-align: top;\n",
              "    }\n",
              "\n",
              "    .dataframe thead th {\n",
              "        text-align: right;\n",
              "    }\n",
              "</style>\n",
              "<table border=\"1\" class=\"dataframe\">\n",
              "  <thead>\n",
              "    <tr style=\"text-align: right;\">\n",
              "      <th></th>\n",
              "      <th>fixed acidity</th>\n",
              "      <th>volatile acidity</th>\n",
              "      <th>citric acid</th>\n",
              "      <th>residual sugar</th>\n",
              "      <th>chlorides</th>\n",
              "      <th>free sulfur dioxide</th>\n",
              "      <th>total sulfur dioxide</th>\n",
              "      <th>density</th>\n",
              "      <th>pH</th>\n",
              "      <th>sulphates</th>\n",
              "      <th>alcohol</th>\n",
              "      <th>quality</th>\n",
              "    </tr>\n",
              "  </thead>\n",
              "  <tbody>\n",
              "    <tr>\n",
              "      <th>count</th>\n",
              "      <td>1599.000000</td>\n",
              "      <td>1599.000000</td>\n",
              "      <td>1599.000000</td>\n",
              "      <td>1599.000000</td>\n",
              "      <td>1599.000000</td>\n",
              "      <td>1599.000000</td>\n",
              "      <td>1599.000000</td>\n",
              "      <td>1599.000000</td>\n",
              "      <td>1599.000000</td>\n",
              "      <td>1599.000000</td>\n",
              "      <td>1599.000000</td>\n",
              "      <td>1599.000000</td>\n",
              "    </tr>\n",
              "    <tr>\n",
              "      <th>mean</th>\n",
              "      <td>8.319637</td>\n",
              "      <td>0.527821</td>\n",
              "      <td>0.270976</td>\n",
              "      <td>2.538806</td>\n",
              "      <td>0.087467</td>\n",
              "      <td>15.874922</td>\n",
              "      <td>46.467792</td>\n",
              "      <td>0.996747</td>\n",
              "      <td>3.311113</td>\n",
              "      <td>0.658149</td>\n",
              "      <td>10.422983</td>\n",
              "      <td>5.636023</td>\n",
              "    </tr>\n",
              "    <tr>\n",
              "      <th>std</th>\n",
              "      <td>1.741096</td>\n",
              "      <td>0.179060</td>\n",
              "      <td>0.194801</td>\n",
              "      <td>1.409928</td>\n",
              "      <td>0.047065</td>\n",
              "      <td>10.460157</td>\n",
              "      <td>32.895324</td>\n",
              "      <td>0.001887</td>\n",
              "      <td>0.154386</td>\n",
              "      <td>0.169507</td>\n",
              "      <td>1.065668</td>\n",
              "      <td>0.807569</td>\n",
              "    </tr>\n",
              "    <tr>\n",
              "      <th>min</th>\n",
              "      <td>4.600000</td>\n",
              "      <td>0.120000</td>\n",
              "      <td>0.000000</td>\n",
              "      <td>0.900000</td>\n",
              "      <td>0.012000</td>\n",
              "      <td>1.000000</td>\n",
              "      <td>6.000000</td>\n",
              "      <td>0.990070</td>\n",
              "      <td>2.740000</td>\n",
              "      <td>0.330000</td>\n",
              "      <td>8.400000</td>\n",
              "      <td>3.000000</td>\n",
              "    </tr>\n",
              "    <tr>\n",
              "      <th>25%</th>\n",
              "      <td>7.100000</td>\n",
              "      <td>0.390000</td>\n",
              "      <td>0.090000</td>\n",
              "      <td>1.900000</td>\n",
              "      <td>0.070000</td>\n",
              "      <td>7.000000</td>\n",
              "      <td>22.000000</td>\n",
              "      <td>0.995600</td>\n",
              "      <td>3.210000</td>\n",
              "      <td>0.550000</td>\n",
              "      <td>9.500000</td>\n",
              "      <td>5.000000</td>\n",
              "    </tr>\n",
              "    <tr>\n",
              "      <th>50%</th>\n",
              "      <td>7.900000</td>\n",
              "      <td>0.520000</td>\n",
              "      <td>0.260000</td>\n",
              "      <td>2.200000</td>\n",
              "      <td>0.079000</td>\n",
              "      <td>14.000000</td>\n",
              "      <td>38.000000</td>\n",
              "      <td>0.996750</td>\n",
              "      <td>3.310000</td>\n",
              "      <td>0.620000</td>\n",
              "      <td>10.200000</td>\n",
              "      <td>6.000000</td>\n",
              "    </tr>\n",
              "    <tr>\n",
              "      <th>75%</th>\n",
              "      <td>9.200000</td>\n",
              "      <td>0.640000</td>\n",
              "      <td>0.420000</td>\n",
              "      <td>2.600000</td>\n",
              "      <td>0.090000</td>\n",
              "      <td>21.000000</td>\n",
              "      <td>62.000000</td>\n",
              "      <td>0.997835</td>\n",
              "      <td>3.400000</td>\n",
              "      <td>0.730000</td>\n",
              "      <td>11.100000</td>\n",
              "      <td>6.000000</td>\n",
              "    </tr>\n",
              "    <tr>\n",
              "      <th>max</th>\n",
              "      <td>15.900000</td>\n",
              "      <td>1.580000</td>\n",
              "      <td>1.000000</td>\n",
              "      <td>15.500000</td>\n",
              "      <td>0.611000</td>\n",
              "      <td>72.000000</td>\n",
              "      <td>289.000000</td>\n",
              "      <td>1.003690</td>\n",
              "      <td>4.010000</td>\n",
              "      <td>2.000000</td>\n",
              "      <td>14.900000</td>\n",
              "      <td>8.000000</td>\n",
              "    </tr>\n",
              "  </tbody>\n",
              "</table>\n",
              "</div>"
            ],
            "text/plain": [
              "       fixed acidity  volatile acidity  ...      alcohol      quality\n",
              "count    1599.000000       1599.000000  ...  1599.000000  1599.000000\n",
              "mean        8.319637          0.527821  ...    10.422983     5.636023\n",
              "std         1.741096          0.179060  ...     1.065668     0.807569\n",
              "min         4.600000          0.120000  ...     8.400000     3.000000\n",
              "25%         7.100000          0.390000  ...     9.500000     5.000000\n",
              "50%         7.900000          0.520000  ...    10.200000     6.000000\n",
              "75%         9.200000          0.640000  ...    11.100000     6.000000\n",
              "max        15.900000          1.580000  ...    14.900000     8.000000\n",
              "\n",
              "[8 rows x 12 columns]"
            ]
          },
          "metadata": {
            "tags": []
          },
          "execution_count": 9
        }
      ]
    },
    {
      "cell_type": "markdown",
      "metadata": {
        "id": "8E9E-1c1IqGu",
        "colab_type": "text"
      },
      "source": [
        "Проверим наличие пропусков в&nbsp;данных:"
      ]
    },
    {
      "cell_type": "code",
      "metadata": {
        "id": "jye0_VC7IqGy",
        "colab_type": "code",
        "colab": {
          "base_uri": "https://localhost:8080/",
          "height": 238
        },
        "outputId": "e8a8c017-5fbd-4916-b21b-85ec2bafa0e3"
      },
      "source": [
        "df.isnull().sum()"
      ],
      "execution_count": 10,
      "outputs": [
        {
          "output_type": "execute_result",
          "data": {
            "text/plain": [
              "fixed acidity           0\n",
              "volatile acidity        0\n",
              "citric acid             0\n",
              "residual sugar          0\n",
              "chlorides               0\n",
              "free sulfur dioxide     0\n",
              "total sulfur dioxide    0\n",
              "density                 0\n",
              "pH                      0\n",
              "sulphates               0\n",
              "alcohol                 0\n",
              "quality                 0\n",
              "dtype: int64"
            ]
          },
          "metadata": {
            "tags": []
          },
          "execution_count": 10
        }
      ]
    },
    {
      "cell_type": "markdown",
      "metadata": {
        "id": "IajygEgVIqG_",
        "colab_type": "text"
      },
      "source": [
        "## Разделение данных\n",
        "Разделим данные на&nbsp;целевой столбец и признаки:"
      ]
    },
    {
      "cell_type": "code",
      "metadata": {
        "id": "uu9KCFReIqHB",
        "colab_type": "code",
        "colab": {}
      },
      "source": [
        "X = df.drop(\"density\", axis=1)\n",
        "y = df[\"density\"]"
      ],
      "execution_count": 0,
      "outputs": []
    },
    {
      "cell_type": "code",
      "metadata": {
        "id": "vyMk7YdiIqHN",
        "colab_type": "code",
        "colab": {
          "base_uri": "https://localhost:8080/",
          "height": 272
        },
        "outputId": "85a243b8-b8a1-4f0c-f4b8-60f0fcea3c09"
      },
      "source": [
        "print(X.head(), \"\\n\")\n",
        "print(y.head())"
      ],
      "execution_count": 12,
      "outputs": [
        {
          "output_type": "stream",
          "text": [
            "   fixed acidity  volatile acidity  citric acid  ...  sulphates  alcohol  quality\n",
            "0            7.4              0.70         0.00  ...       0.56      9.4        5\n",
            "1            7.8              0.88         0.00  ...       0.68      9.8        5\n",
            "2            7.8              0.76         0.04  ...       0.65      9.8        5\n",
            "3           11.2              0.28         0.56  ...       0.58      9.8        6\n",
            "4            7.4              0.70         0.00  ...       0.56      9.4        5\n",
            "\n",
            "[5 rows x 11 columns] \n",
            "\n",
            "0    0.9978\n",
            "1    0.9968\n",
            "2    0.9970\n",
            "3    0.9980\n",
            "4    0.9978\n",
            "Name: density, dtype: float64\n"
          ],
          "name": "stdout"
        }
      ]
    },
    {
      "cell_type": "code",
      "metadata": {
        "id": "M3OPsMbaIqHY",
        "colab_type": "code",
        "colab": {
          "base_uri": "https://localhost:8080/",
          "height": 51
        },
        "outputId": "b3e7bfc7-e403-4ebb-ac3d-aef579b8ac3f"
      },
      "source": [
        "print(X.shape)\n",
        "print(y.shape)"
      ],
      "execution_count": 13,
      "outputs": [
        {
          "output_type": "stream",
          "text": [
            "(1599, 11)\n",
            "(1599,)\n"
          ],
          "name": "stdout"
        }
      ]
    },
    {
      "cell_type": "markdown",
      "metadata": {
        "id": "xLWvnvYIIqHj",
        "colab_type": "text"
      },
      "source": [
        "Предобработаем данные, чтобы методы работали лучше:"
      ]
    },
    {
      "cell_type": "code",
      "metadata": {
        "id": "yjyNAF_2IqHl",
        "colab_type": "code",
        "colab": {
          "base_uri": "https://localhost:8080/",
          "height": 334
        },
        "outputId": "d744ebc9-fbdd-4822-84f3-c0c5ef57e9fd"
      },
      "source": [
        "columns = X.columns\n",
        "scaler = StandardScaler()\n",
        "X = scaler.fit_transform(X)\n",
        "pd.DataFrame(X, columns=columns).describe()"
      ],
      "execution_count": 14,
      "outputs": [
        {
          "output_type": "execute_result",
          "data": {
            "text/html": [
              "<div>\n",
              "<style scoped>\n",
              "    .dataframe tbody tr th:only-of-type {\n",
              "        vertical-align: middle;\n",
              "    }\n",
              "\n",
              "    .dataframe tbody tr th {\n",
              "        vertical-align: top;\n",
              "    }\n",
              "\n",
              "    .dataframe thead th {\n",
              "        text-align: right;\n",
              "    }\n",
              "</style>\n",
              "<table border=\"1\" class=\"dataframe\">\n",
              "  <thead>\n",
              "    <tr style=\"text-align: right;\">\n",
              "      <th></th>\n",
              "      <th>fixed acidity</th>\n",
              "      <th>volatile acidity</th>\n",
              "      <th>citric acid</th>\n",
              "      <th>residual sugar</th>\n",
              "      <th>chlorides</th>\n",
              "      <th>free sulfur dioxide</th>\n",
              "      <th>total sulfur dioxide</th>\n",
              "      <th>pH</th>\n",
              "      <th>sulphates</th>\n",
              "      <th>alcohol</th>\n",
              "      <th>quality</th>\n",
              "    </tr>\n",
              "  </thead>\n",
              "  <tbody>\n",
              "    <tr>\n",
              "      <th>count</th>\n",
              "      <td>1.599000e+03</td>\n",
              "      <td>1.599000e+03</td>\n",
              "      <td>1.599000e+03</td>\n",
              "      <td>1.599000e+03</td>\n",
              "      <td>1.599000e+03</td>\n",
              "      <td>1.599000e+03</td>\n",
              "      <td>1.599000e+03</td>\n",
              "      <td>1.599000e+03</td>\n",
              "      <td>1.599000e+03</td>\n",
              "      <td>1.599000e+03</td>\n",
              "      <td>1.599000e+03</td>\n",
              "    </tr>\n",
              "    <tr>\n",
              "      <th>mean</th>\n",
              "      <td>3.435512e-16</td>\n",
              "      <td>1.699704e-16</td>\n",
              "      <td>4.335355e-16</td>\n",
              "      <td>-1.905223e-16</td>\n",
              "      <td>4.838739e-16</td>\n",
              "      <td>1.432042e-16</td>\n",
              "      <td>1.289532e-16</td>\n",
              "      <td>3.002879e-15</td>\n",
              "      <td>7.639596e-16</td>\n",
              "      <td>9.437243e-16</td>\n",
              "      <td>-8.051373e-16</td>\n",
              "    </tr>\n",
              "    <tr>\n",
              "      <th>std</th>\n",
              "      <td>1.000313e+00</td>\n",
              "      <td>1.000313e+00</td>\n",
              "      <td>1.000313e+00</td>\n",
              "      <td>1.000313e+00</td>\n",
              "      <td>1.000313e+00</td>\n",
              "      <td>1.000313e+00</td>\n",
              "      <td>1.000313e+00</td>\n",
              "      <td>1.000313e+00</td>\n",
              "      <td>1.000313e+00</td>\n",
              "      <td>1.000313e+00</td>\n",
              "      <td>1.000313e+00</td>\n",
              "    </tr>\n",
              "    <tr>\n",
              "      <th>min</th>\n",
              "      <td>-2.137045e+00</td>\n",
              "      <td>-2.278280e+00</td>\n",
              "      <td>-1.391472e+00</td>\n",
              "      <td>-1.162696e+00</td>\n",
              "      <td>-1.603945e+00</td>\n",
              "      <td>-1.422500e+00</td>\n",
              "      <td>-1.230584e+00</td>\n",
              "      <td>-3.700401e+00</td>\n",
              "      <td>-1.936507e+00</td>\n",
              "      <td>-1.898919e+00</td>\n",
              "      <td>-3.265165e+00</td>\n",
              "    </tr>\n",
              "    <tr>\n",
              "      <th>25%</th>\n",
              "      <td>-7.007187e-01</td>\n",
              "      <td>-7.699311e-01</td>\n",
              "      <td>-9.293181e-01</td>\n",
              "      <td>-4.532184e-01</td>\n",
              "      <td>-3.712290e-01</td>\n",
              "      <td>-8.487156e-01</td>\n",
              "      <td>-7.440403e-01</td>\n",
              "      <td>-6.551405e-01</td>\n",
              "      <td>-6.382196e-01</td>\n",
              "      <td>-8.663789e-01</td>\n",
              "      <td>-7.878226e-01</td>\n",
              "    </tr>\n",
              "    <tr>\n",
              "      <th>50%</th>\n",
              "      <td>-2.410944e-01</td>\n",
              "      <td>-4.368911e-02</td>\n",
              "      <td>-5.636026e-02</td>\n",
              "      <td>-2.403750e-01</td>\n",
              "      <td>-1.799455e-01</td>\n",
              "      <td>-1.793002e-01</td>\n",
              "      <td>-2.574968e-01</td>\n",
              "      <td>-7.212705e-03</td>\n",
              "      <td>-2.251281e-01</td>\n",
              "      <td>-2.093081e-01</td>\n",
              "      <td>4.508484e-01</td>\n",
              "    </tr>\n",
              "    <tr>\n",
              "      <th>75%</th>\n",
              "      <td>5.057952e-01</td>\n",
              "      <td>6.266881e-01</td>\n",
              "      <td>7.652471e-01</td>\n",
              "      <td>4.341614e-02</td>\n",
              "      <td>5.384542e-02</td>\n",
              "      <td>4.901152e-01</td>\n",
              "      <td>4.723184e-01</td>\n",
              "      <td>5.759223e-01</td>\n",
              "      <td>4.240158e-01</td>\n",
              "      <td>6.354971e-01</td>\n",
              "      <td>4.508484e-01</td>\n",
              "    </tr>\n",
              "    <tr>\n",
              "      <th>max</th>\n",
              "      <td>4.355149e+00</td>\n",
              "      <td>5.877976e+00</td>\n",
              "      <td>3.743574e+00</td>\n",
              "      <td>9.195681e+00</td>\n",
              "      <td>1.112703e+01</td>\n",
              "      <td>5.367284e+00</td>\n",
              "      <td>7.375154e+00</td>\n",
              "      <td>4.528282e+00</td>\n",
              "      <td>7.918677e+00</td>\n",
              "      <td>4.202453e+00</td>\n",
              "      <td>2.928190e+00</td>\n",
              "    </tr>\n",
              "  </tbody>\n",
              "</table>\n",
              "</div>"
            ],
            "text/plain": [
              "       fixed acidity  volatile acidity  ...       alcohol       quality\n",
              "count   1.599000e+03      1.599000e+03  ...  1.599000e+03  1.599000e+03\n",
              "mean    3.435512e-16      1.699704e-16  ...  9.437243e-16 -8.051373e-16\n",
              "std     1.000313e+00      1.000313e+00  ...  1.000313e+00  1.000313e+00\n",
              "min    -2.137045e+00     -2.278280e+00  ... -1.898919e+00 -3.265165e+00\n",
              "25%    -7.007187e-01     -7.699311e-01  ... -8.663789e-01 -7.878226e-01\n",
              "50%    -2.410944e-01     -4.368911e-02  ... -2.093081e-01  4.508484e-01\n",
              "75%     5.057952e-01      6.266881e-01  ...  6.354971e-01  4.508484e-01\n",
              "max     4.355149e+00      5.877976e+00  ...  4.202453e+00  2.928190e+00\n",
              "\n",
              "[8 rows x 11 columns]"
            ]
          },
          "metadata": {
            "tags": []
          },
          "execution_count": 14
        }
      ]
    },
    {
      "cell_type": "markdown",
      "metadata": {
        "id": "9utvtBgHIqH2",
        "colab_type": "text"
      },
      "source": [
        "Разделим выборку на&nbsp;тренировочную и тестовую:"
      ]
    },
    {
      "cell_type": "code",
      "metadata": {
        "id": "n2WvQEYgIqH4",
        "colab_type": "code",
        "colab": {}
      },
      "source": [
        "X_train, X_test, y_train, y_test = train_test_split(X, y,\n",
        "                            test_size=0.25, random_state=346705925)"
      ],
      "execution_count": 0,
      "outputs": []
    },
    {
      "cell_type": "code",
      "metadata": {
        "id": "QUs5cvsdIqIE",
        "colab_type": "code",
        "colab": {
          "base_uri": "https://localhost:8080/",
          "height": 85
        },
        "outputId": "b207a9f4-46a7-4ca6-f997-6f95dad32e77"
      },
      "source": [
        "print(X_train.shape)\n",
        "print(X_test.shape)\n",
        "print(y_train.shape)\n",
        "print(y_test.shape)"
      ],
      "execution_count": 16,
      "outputs": [
        {
          "output_type": "stream",
          "text": [
            "(1199, 11)\n",
            "(400, 11)\n",
            "(1199,)\n",
            "(400,)\n"
          ],
          "name": "stdout"
        }
      ]
    },
    {
      "cell_type": "markdown",
      "metadata": {
        "id": "_w8KA3L-IqIN",
        "colab_type": "text"
      },
      "source": [
        "## Обучение моделей"
      ]
    },
    {
      "cell_type": "markdown",
      "metadata": {
        "id": "TnM2QiHrIqIP",
        "colab_type": "text"
      },
      "source": [
        "Напишем функцию, которая считает метрики построенной модели:"
      ]
    },
    {
      "cell_type": "code",
      "metadata": {
        "id": "JAggybW6IqIR",
        "colab_type": "code",
        "colab": {}
      },
      "source": [
        "def test_model(model):\n",
        "    print(\"mean_absolute_error:\",\n",
        "          mean_absolute_error(y_test, model.predict(X_test)))\n",
        "    print(\"median_absolute_error:\",\n",
        "          median_absolute_error(y_test, model.predict(X_test)))\n",
        "    print(\"r2_score:\",\n",
        "          r2_score(y_test, model.predict(X_test)))"
      ],
      "execution_count": 0,
      "outputs": []
    },
    {
      "cell_type": "markdown",
      "metadata": {
        "id": "xUON9CDbIqIa",
        "colab_type": "text"
      },
      "source": [
        "### Случайный лес"
      ]
    },
    {
      "cell_type": "markdown",
      "metadata": {
        "id": "kLeZo2_WIqIc",
        "colab_type": "text"
      },
      "source": [
        "Попробуем случайный лес с&nbsp;гиперпараметром $n=100$:"
      ]
    },
    {
      "cell_type": "code",
      "metadata": {
        "id": "5T8kT7LYIqId",
        "colab_type": "code",
        "colab": {
          "base_uri": "https://localhost:8080/",
          "height": 136
        },
        "outputId": "edf53fdd-6b04-44be-9d9a-53a732c7e1ab"
      },
      "source": [
        "ran_100 = RandomForestRegressor(n_estimators=100)\n",
        "ran_100.fit(X_train, y_train)"
      ],
      "execution_count": 18,
      "outputs": [
        {
          "output_type": "execute_result",
          "data": {
            "text/plain": [
              "RandomForestRegressor(bootstrap=True, ccp_alpha=0.0, criterion='mse',\n",
              "                      max_depth=None, max_features='auto', max_leaf_nodes=None,\n",
              "                      max_samples=None, min_impurity_decrease=0.0,\n",
              "                      min_impurity_split=None, min_samples_leaf=1,\n",
              "                      min_samples_split=2, min_weight_fraction_leaf=0.0,\n",
              "                      n_estimators=100, n_jobs=None, oob_score=False,\n",
              "                      random_state=None, verbose=0, warm_start=False)"
            ]
          },
          "metadata": {
            "tags": []
          },
          "execution_count": 18
        }
      ]
    },
    {
      "cell_type": "markdown",
      "metadata": {
        "id": "TROkgp8EIqIn",
        "colab_type": "text"
      },
      "source": [
        "Проверим метрики построенной модели:"
      ]
    },
    {
      "cell_type": "code",
      "metadata": {
        "id": "EQ7lUT3gIqIp",
        "colab_type": "code",
        "colab": {
          "base_uri": "https://localhost:8080/",
          "height": 68
        },
        "outputId": "b0c01daf-2972-4590-e555-610c11965363"
      },
      "source": [
        "test_model(ran_100)"
      ],
      "execution_count": 19,
      "outputs": [
        {
          "output_type": "stream",
          "text": [
            "mean_absolute_error: 0.0004663771922352339\n",
            "median_absolute_error: 0.00032255390892999003\n",
            "r2_score: 0.8825655447277275\n"
          ],
          "name": "stdout"
        }
      ]
    },
    {
      "cell_type": "markdown",
      "metadata": {
        "id": "XX6EwoyFIqIy",
        "colab_type": "text"
      },
      "source": [
        "Видно, что данный метод даже без&nbsp;настройки гиперпараметров уже показывает очень неплохой результат."
      ]
    },
    {
      "cell_type": "markdown",
      "metadata": {
        "id": "8VfWkYdfIqI0",
        "colab_type": "text"
      },
      "source": [
        "### Градиентный бустинг"
      ]
    },
    {
      "cell_type": "markdown",
      "metadata": {
        "id": "sUrqnl2-IqI1",
        "colab_type": "text"
      },
      "source": [
        "Попробуем градиентный бустинг с&nbsp;гиперпараметром $n=100$:"
      ]
    },
    {
      "cell_type": "code",
      "metadata": {
        "id": "qBOgkUP7IqI3",
        "colab_type": "code",
        "colab": {
          "base_uri": "https://localhost:8080/",
          "height": 170
        },
        "outputId": "65932921-94a1-48d4-d769-bfc574a71f90"
      },
      "source": [
        "gr_100 = GradientBoostingRegressor(n_estimators=100)\n",
        "gr_100.fit(X_train, y_train)"
      ],
      "execution_count": 20,
      "outputs": [
        {
          "output_type": "execute_result",
          "data": {
            "text/plain": [
              "GradientBoostingRegressor(alpha=0.9, ccp_alpha=0.0, criterion='friedman_mse',\n",
              "                          init=None, learning_rate=0.1, loss='ls', max_depth=3,\n",
              "                          max_features=None, max_leaf_nodes=None,\n",
              "                          min_impurity_decrease=0.0, min_impurity_split=None,\n",
              "                          min_samples_leaf=1, min_samples_split=2,\n",
              "                          min_weight_fraction_leaf=0.0, n_estimators=100,\n",
              "                          n_iter_no_change=None, presort='deprecated',\n",
              "                          random_state=None, subsample=1.0, tol=0.0001,\n",
              "                          validation_fraction=0.1, verbose=0, warm_start=False)"
            ]
          },
          "metadata": {
            "tags": []
          },
          "execution_count": 20
        }
      ]
    },
    {
      "cell_type": "markdown",
      "metadata": {
        "id": "wPrVaSuqIqJA",
        "colab_type": "text"
      },
      "source": [
        "Проверим метрики построенной модели:"
      ]
    },
    {
      "cell_type": "code",
      "metadata": {
        "id": "GjxdPlG_IqJC",
        "colab_type": "code",
        "colab": {
          "base_uri": "https://localhost:8080/",
          "height": 68
        },
        "outputId": "fab8bacb-5fc1-4f46-c583-619c7f012c06"
      },
      "source": [
        "test_model(gr_100)"
      ],
      "execution_count": 21,
      "outputs": [
        {
          "output_type": "stream",
          "text": [
            "mean_absolute_error: 0.0004704435493496417\n",
            "median_absolute_error: 0.00034447129988390834\n",
            "r2_score: 0.8910730667571881\n"
          ],
          "name": "stdout"
        }
      ]
    },
    {
      "cell_type": "markdown",
      "metadata": {
        "id": "AcQSH4R4IqJT",
        "colab_type": "text"
      },
      "source": [
        "Внезапно градиентный бустинг оказался несколько лучше по&nbsp;сравнению со&nbsp;случайным лесом."
      ]
    },
    {
      "cell_type": "markdown",
      "metadata": {
        "id": "w76_C4NDIqJV",
        "colab_type": "text"
      },
      "source": [
        "## Подбор гиперпараметра $n$"
      ]
    },
    {
      "cell_type": "markdown",
      "metadata": {
        "id": "1kYK9grkIqJX",
        "colab_type": "text"
      },
      "source": [
        "### Случайный лес"
      ]
    },
    {
      "cell_type": "markdown",
      "metadata": {
        "id": "Qv1hXea9IqJY",
        "colab_type": "text"
      },
      "source": [
        "Введем список настраиваемых параметров:"
      ]
    },
    {
      "cell_type": "code",
      "metadata": {
        "id": "Ti-eHoAXIqJa",
        "colab_type": "code",
        "colab": {
          "base_uri": "https://localhost:8080/",
          "height": 51
        },
        "outputId": "60fbae08-9706-4b78-e5e1-c882f90c8a2e"
      },
      "source": [
        "param_range = np.arange(10, 201, 10)\n",
        "tuned_parameters = [{'n_estimators': param_range}]\n",
        "tuned_parameters"
      ],
      "execution_count": 22,
      "outputs": [
        {
          "output_type": "execute_result",
          "data": {
            "text/plain": [
              "[{'n_estimators': array([ 10,  20,  30,  40,  50,  60,  70,  80,  90, 100, 110, 120, 130,\n",
              "         140, 150, 160, 170, 180, 190, 200])}]"
            ]
          },
          "metadata": {
            "tags": []
          },
          "execution_count": 22
        }
      ]
    },
    {
      "cell_type": "markdown",
      "metadata": {
        "id": "f1WF413HIqJj",
        "colab_type": "text"
      },
      "source": [
        "Запустим подбор параметра:"
      ]
    },
    {
      "cell_type": "code",
      "metadata": {
        "id": "hybGX18mIqJl",
        "colab_type": "code",
        "colab": {
          "base_uri": "https://localhost:8080/",
          "height": 136
        },
        "outputId": "1a646579-7770-4056-bd5a-3c6c3e8a0065"
      },
      "source": [
        "gs = GridSearchCV(RandomForestRegressor(), tuned_parameters,\n",
        "                  cv=ShuffleSplit(n_splits=10), scoring=\"r2\",\n",
        "                  return_train_score=True, n_jobs=-1)\n",
        "gs.fit(X, y)\n",
        "gs.best_estimator_"
      ],
      "execution_count": 23,
      "outputs": [
        {
          "output_type": "execute_result",
          "data": {
            "text/plain": [
              "RandomForestRegressor(bootstrap=True, ccp_alpha=0.0, criterion='mse',\n",
              "                      max_depth=None, max_features='auto', max_leaf_nodes=None,\n",
              "                      max_samples=None, min_impurity_decrease=0.0,\n",
              "                      min_impurity_split=None, min_samples_leaf=1,\n",
              "                      min_samples_split=2, min_weight_fraction_leaf=0.0,\n",
              "                      n_estimators=190, n_jobs=None, oob_score=False,\n",
              "                      random_state=None, verbose=0, warm_start=False)"
            ]
          },
          "metadata": {
            "tags": []
          },
          "execution_count": 23
        }
      ]
    },
    {
      "cell_type": "markdown",
      "metadata": {
        "id": "OAcXI4_PIqJt",
        "colab_type": "text"
      },
      "source": [
        "Проверим результаты при&nbsp;разных значения гиперпараметра на&nbsp;тренировочном наборе данных:"
      ]
    },
    {
      "cell_type": "code",
      "metadata": {
        "id": "UNXhvajiIqJv",
        "colab_type": "code",
        "colab": {
          "base_uri": "https://localhost:8080/",
          "height": 265
        },
        "outputId": "5dffd976-1ff9-4701-e020-f881ebbd47f4"
      },
      "source": [
        "plt.plot(param_range, gs.cv_results_[\"mean_train_score\"]);"
      ],
      "execution_count": 24,
      "outputs": [
        {
          "output_type": "display_data",
          "data": {
            "image/png": "[encoded data removed]",
            "text/plain": [
              "<Figure size 432x288 with 1 Axes>"
            ]
          },
          "metadata": {
            "tags": [],
            "image/png": {
              "width": 384,
              "height": 248
            },
            "needs_background": "light"
          }
        }
      ]
    },
    {
      "cell_type": "markdown",
      "metadata": {
        "id": "U37Wk8s-IqJ4",
        "colab_type": "text"
      },
      "source": [
        "В&nbsp;целом результат ожидаемый&nbsp;— чем больше обученных моделей, тем лучше."
      ]
    },
    {
      "cell_type": "markdown",
      "metadata": {
        "id": "ZnGC0qA2IqJ6",
        "colab_type": "text"
      },
      "source": [
        "На&nbsp;тестовом наборе данных картина похожа:"
      ]
    },
    {
      "cell_type": "code",
      "metadata": {
        "id": "Ly_fsMOqIqJ8",
        "colab_type": "code",
        "colab": {
          "base_uri": "https://localhost:8080/",
          "height": 265
        },
        "outputId": "8ffd9083-2572-4481-e60f-ac5dd2af85d8"
      },
      "source": [
        "plt.plot(param_range, gs.cv_results_[\"mean_test_score\"]);"
      ],
      "execution_count": 25,
      "outputs": [
        {
          "output_type": "display_data",
          "data": {
            "image/png": "[encoded data removed]",
            "text/plain": [
              "<Figure size 432x288 with 1 Axes>"
            ]
          },
          "metadata": {
            "tags": [],
            "image/png": {
              "width": 384,
              "height": 248
            },
            "needs_background": "light"
          }
        }
      ]
    },
    {
      "cell_type": "markdown",
      "metadata": {
        "id": "u8oS0y1CIqKM",
        "colab_type": "text"
      },
      "source": [
        "Из-за случайнойсти график немного плавает, но конкретно в&nbsp;данном случае получился чётко выраженный пик с&nbsp;наилучшим результатом."
      ]
    },
    {
      "cell_type": "code",
      "metadata": {
        "id": "LcCWXf9NIqKP",
        "colab_type": "code",
        "colab": {
          "base_uri": "https://localhost:8080/",
          "height": 68
        },
        "outputId": "5951db93-7801-49b3-b4ea-a9665a4beae4"
      },
      "source": [
        "reg = gs.best_estimator_\n",
        "reg.fit(X_train, y_train)\n",
        "test_model(reg)"
      ],
      "execution_count": 26,
      "outputs": [
        {
          "output_type": "stream",
          "text": [
            "mean_absolute_error: 0.00046906389307640653\n",
            "median_absolute_error: 0.00033821622168678234\n",
            "r2_score: 0.8833787278965249\n"
          ],
          "name": "stdout"
        }
      ]
    },
    {
      "cell_type": "markdown",
      "metadata": {
        "id": "imFETgIEIqKY",
        "colab_type": "text"
      },
      "source": [
        "Конкретно данная модель оказалась практически такой же, как исходная."
      ]
    },
    {
      "cell_type": "markdown",
      "metadata": {
        "id": "oFnk2kk-IqKa",
        "colab_type": "text"
      },
      "source": [
        "### Градиентный бустинг"
      ]
    },
    {
      "cell_type": "markdown",
      "metadata": {
        "id": "1SoPsQCZIqKd",
        "colab_type": "text"
      },
      "source": [
        "Список настраиваемых параметров оставим тем же."
      ]
    },
    {
      "cell_type": "code",
      "metadata": {
        "id": "kAmQHGtTIqKe",
        "colab_type": "code",
        "colab": {
          "base_uri": "https://localhost:8080/",
          "height": 51
        },
        "outputId": "3a75c115-fab6-4b49-99f0-022d5c21e8fb"
      },
      "source": [
        "tuned_parameters"
      ],
      "execution_count": 27,
      "outputs": [
        {
          "output_type": "execute_result",
          "data": {
            "text/plain": [
              "[{'n_estimators': array([ 10,  20,  30,  40,  50,  60,  70,  80,  90, 100, 110, 120, 130,\n",
              "         140, 150, 160, 170, 180, 190, 200])}]"
            ]
          },
          "metadata": {
            "tags": []
          },
          "execution_count": 27
        }
      ]
    },
    {
      "cell_type": "markdown",
      "metadata": {
        "id": "LwbEdbusIqKn",
        "colab_type": "text"
      },
      "source": [
        "Запустим подбор параметра:"
      ]
    },
    {
      "cell_type": "code",
      "metadata": {
        "id": "us4qFJbZIqKp",
        "colab_type": "code",
        "colab": {
          "base_uri": "https://localhost:8080/",
          "height": 170
        },
        "outputId": "f0b35aa2-69c8-4edd-ed3f-52517c19226f"
      },
      "source": [
        "gs = GridSearchCV(GradientBoostingRegressor(), tuned_parameters,\n",
        "                  cv=ShuffleSplit(n_splits=10), scoring=\"r2\",\n",
        "                  return_train_score=True, n_jobs=-1)\n",
        "gs.fit(X, y)\n",
        "gs.best_estimator_"
      ],
      "execution_count": 28,
      "outputs": [
        {
          "output_type": "execute_result",
          "data": {
            "text/plain": [
              "GradientBoostingRegressor(alpha=0.9, ccp_alpha=0.0, criterion='friedman_mse',\n",
              "                          init=None, learning_rate=0.1, loss='ls', max_depth=3,\n",
              "                          max_features=None, max_leaf_nodes=None,\n",
              "                          min_impurity_decrease=0.0, min_impurity_split=None,\n",
              "                          min_samples_leaf=1, min_samples_split=2,\n",
              "                          min_weight_fraction_leaf=0.0, n_estimators=200,\n",
              "                          n_iter_no_change=None, presort='deprecated',\n",
              "                          random_state=None, subsample=1.0, tol=0.0001,\n",
              "                          validation_fraction=0.1, verbose=0, warm_start=False)"
            ]
          },
          "metadata": {
            "tags": []
          },
          "execution_count": 28
        }
      ]
    },
    {
      "cell_type": "markdown",
      "metadata": {
        "id": "Xnuvh4sKIqKy",
        "colab_type": "text"
      },
      "source": [
        "Проверим результаты при&nbsp;разных значения гиперпараметра на&nbsp;тренировочном наборе данных:"
      ]
    },
    {
      "cell_type": "code",
      "metadata": {
        "id": "BsNH8E-NIqKz",
        "colab_type": "code",
        "colab": {
          "base_uri": "https://localhost:8080/",
          "height": 265
        },
        "outputId": "e72ccdda-dca8-4a9b-e73b-3132af06b7c8"
      },
      "source": [
        "plt.plot(param_range, gs.cv_results_[\"mean_train_score\"]);"
      ],
      "execution_count": 29,
      "outputs": [
        {
          "output_type": "display_data",
          "data": {
            "image/png": "[encoded data removed]",
            "text/plain": [
              "<Figure size 432x288 with 1 Axes>"
            ]
          },
          "metadata": {
            "tags": [],
            "image/png": {
              "width": 378,
              "height": 248
            },
            "needs_background": "light"
          }
        }
      ]
    },
    {
      "cell_type": "markdown",
      "metadata": {
        "id": "ngZMyD3XIqK8",
        "colab_type": "text"
      },
      "source": [
        "Картина та же: чем больше подмоделей, тем лучше."
      ]
    },
    {
      "cell_type": "markdown",
      "metadata": {
        "id": "1AdRpWN6IqK_",
        "colab_type": "text"
      },
      "source": [
        "На&nbsp;тестовом наборе данных картина ровно та же:"
      ]
    },
    {
      "cell_type": "code",
      "metadata": {
        "id": "vpTcdZYuIqLD",
        "colab_type": "code",
        "colab": {
          "base_uri": "https://localhost:8080/",
          "height": 265
        },
        "outputId": "69aa6a0a-9405-460e-b324-777cf281a532"
      },
      "source": [
        "plt.plot(param_range, gs.cv_results_[\"mean_test_score\"]);"
      ],
      "execution_count": 30,
      "outputs": [
        {
          "output_type": "display_data",
          "data": {
            "image/png": "[encoded data removed]",
            "text/plain": [
              "<Figure size 432x288 with 1 Axes>"
            ]
          },
          "metadata": {
            "tags": [],
            "image/png": {
              "width": 378,
              "height": 248
            },
            "needs_background": "light"
          }
        }
      ]
    },
    {
      "cell_type": "markdown",
      "metadata": {
        "id": "eEVKPpJ3IqLM",
        "colab_type": "text"
      },
      "source": [
        "Выходит, что чем больше подмоделей, тем лучше. Возможно, что можно использовать ещё больше моделей, но будем считать, что это выходит за&nbsp;рамки лабораторной работы."
      ]
    },
    {
      "cell_type": "code",
      "metadata": {
        "id": "GbDOs16hIqLN",
        "colab_type": "code",
        "colab": {
          "base_uri": "https://localhost:8080/",
          "height": 68
        },
        "outputId": "9dea3e95-efe4-4947-f878-8131d29f5e97"
      },
      "source": [
        "reg = gs.best_estimator_\n",
        "reg.fit(X_train, y_train)\n",
        "test_model(reg)"
      ],
      "execution_count": 31,
      "outputs": [
        {
          "output_type": "stream",
          "text": [
            "mean_absolute_error: 0.0004392660468100229\n",
            "median_absolute_error: 0.00032974298995036566\n",
            "r2_score: 0.9053861296404554\n"
          ],
          "name": "stdout"
        }
      ]
    }
  ]
}